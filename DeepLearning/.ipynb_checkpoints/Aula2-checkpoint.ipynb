{
 "cells": [
  {
   "cell_type": "code",
   "execution_count": 1,
   "metadata": {},
   "outputs": [],
   "source": [
    "#Nesta aula vamos ver na prática como funciona a transferência de aprendizado com reúso de camadas pré treinadas\n",
    "#importar as bibliotecas utilizadas \n",
    "import sys\n",
    "assert sys.version_info >= (3 , 5)\n",
    "\n",
    "import sklearn \n",
    "assert sklearn.__version__ >= \"0.20\"\n",
    "\n",
    "try: \n",
    "    %tensorflow_version 2.x\n",
    "except Exception:\n",
    "    pass\n",
    "\n",
    "import tensorflow as tf\n",
    "from tensorflow import keras\n",
    "assert tf.__version__ >= \"2.0\" \n",
    "\n",
    "%load_ext tensorboard\n",
    "\n",
    "import numpy as np\n",
    "import os\n",
    "\n",
    "np.random.seed(42)\n",
    "\n",
    "%matplotlib inline\n",
    "\n",
    "import matplotlib as mpl\n",
    "import matplotlib.pyplot as plt\n",
    "\n",
    "mpl.rc('axes', labelsize=14)\n",
    "mpl.rc('xtick', labelsize=12)\n",
    "mpl.rc('ytick', labelsize=12)\n"
   ]
  },
  {
   "cell_type": "code",
   "execution_count": 2,
   "metadata": {},
   "outputs": [],
   "source": [
    "#vamos carregar os datasets\n",
    "(X_train_full, y_train_full),(X_test, y_test) = keras.datasets.fashion_mnist.load_data()"
   ]
  },
  {
   "cell_type": "code",
   "execution_count": 3,
   "metadata": {},
   "outputs": [],
   "source": [
    "X_train_full = X_train_full / 255.0\n",
    "X_test = X_test / 255.0\n",
    "X_valid, X_train = X_train_full[:5000], X_train_full[5000:]\n",
    "y_valid, y_train = y_train_full[:5000], y_train_full[5000:]\n",
    "\n",
    "def split_dataset(X, y):\n",
    "    y_5_or_6 = (y == 5) | (y == 6) # sandálias ou camisas\n",
    "    y_A = y[~y_5_or_6]\n",
    "    y_A[y_A > 6] -= 2 # índices das classes 7, 8, 9 deveriam ser alterados para 5, 6, 7\n",
    "    y_B= (y[y_5_or_6] == 6).astype(np.float32) # classificação binária: é uma camisa? (classe 6)?\n",
    "    return ((X[~y_5_or_6], y_A),\n",
    "            (X[y_5_or_6], y_B))\n",
    "(X_train_A, y_train_A),(X_train_B, y_train_B) = split_dataset(X_train, y_train)\n",
    "(X_valid_A, y_valid_A),(X_valid_B, y_valid_B) = split_dataset(X_valid, y_valid)\n",
    "(X_test_A, y_test_A), (X_test_B, y_test_B) = split_dataset(X_test, y_test)\n",
    "    \n",
    "X_train_B = X_train_B[:200]\n",
    "y_train_B = y_train_B[:200]"
   ]
  },
  {
   "cell_type": "code",
   "execution_count": 4,
   "metadata": {},
   "outputs": [
    {
     "data": {
      "text/plain": [
       "(43986, 28, 28)"
      ]
     },
     "execution_count": 4,
     "metadata": {},
     "output_type": "execute_result"
    }
   ],
   "source": [
    "X_train_A.shape"
   ]
  },
  {
   "cell_type": "code",
   "execution_count": 5,
   "metadata": {},
   "outputs": [
    {
     "data": {
      "text/plain": [
       "(200, 28, 28)"
      ]
     },
     "execution_count": 5,
     "metadata": {},
     "output_type": "execute_result"
    }
   ],
   "source": [
    "X_train_B.shape"
   ]
  },
  {
   "cell_type": "code",
   "execution_count": 6,
   "metadata": {},
   "outputs": [],
   "source": [
    "tf.random.set_seed(42)\n",
    "np.random.seed(42)"
   ]
  },
  {
   "cell_type": "code",
   "execution_count": 19,
   "metadata": {},
   "outputs": [],
   "source": [
    "model_A = keras.models.Sequential()\n",
    "model_A.add(keras.layers.Flatten(input_shape=[28, 28]))\n",
    "for n_hidden in (300, 100, 50, 50, 50):\n",
    "    model_A.add(keras.layers.Dense(n_hidden, activation=\"selu\"))\n",
    "model_A.add(keras.layers.Dense(8, activation=\"softmax\"))"
   ]
  },
  {
   "cell_type": "code",
   "execution_count": 20,
   "metadata": {},
   "outputs": [],
   "source": [
    "model_A.compile(loss=\"sparse_categorical_crossentropy\",\n",
    "                optimizer=keras.optimizers.SGD(learning_rate=1e-3),\n",
    "                metrics=[\"accuracy\"])"
   ]
  },
  {
   "cell_type": "code",
   "execution_count": 21,
   "metadata": {},
   "outputs": [
    {
     "name": "stdout",
     "output_type": "stream",
     "text": [
      "Epoch 1/20\n",
      "1375/1375 [==============================] - 5s 3ms/step - loss: 0.5803 - accuracy: 0.8144 - val_loss: 0.3848 - val_accuracy: 0.8682\n",
      "Epoch 2/20\n",
      "1375/1375 [==============================] - 4s 3ms/step - loss: 0.3580 - accuracy: 0.8773 - val_loss: 0.3227 - val_accuracy: 0.8914\n",
      "Epoch 3/20\n",
      "1375/1375 [==============================] - 4s 3ms/step - loss: 0.3211 - accuracy: 0.8899 - val_loss: 0.2996 - val_accuracy: 0.8984\n",
      "Epoch 4/20\n",
      "1375/1375 [==============================] - 4s 3ms/step - loss: 0.3016 - accuracy: 0.8969 - val_loss: 0.2868 - val_accuracy: 0.9036\n",
      "Epoch 5/20\n",
      "1375/1375 [==============================] - 4s 3ms/step - loss: 0.2882 - accuracy: 0.9014 - val_loss: 0.2768 - val_accuracy: 0.9073\n",
      "Epoch 6/20\n",
      "1375/1375 [==============================] - 4s 3ms/step - loss: 0.2781 - accuracy: 0.9039 - val_loss: 0.2714 - val_accuracy: 0.9101\n",
      "Epoch 7/20\n",
      "1375/1375 [==============================] - 4s 3ms/step - loss: 0.2697 - accuracy: 0.9074 - val_loss: 0.2707 - val_accuracy: 0.9098\n",
      "Epoch 8/20\n",
      "1375/1375 [==============================] - 4s 3ms/step - loss: 0.2628 - accuracy: 0.9104 - val_loss: 0.2673 - val_accuracy: 0.9136\n",
      "Epoch 9/20\n",
      "1375/1375 [==============================] - 4s 3ms/step - loss: 0.2574 - accuracy: 0.9109 - val_loss: 0.2575 - val_accuracy: 0.9143\n",
      "Epoch 10/20\n",
      "1375/1375 [==============================] - 4s 3ms/step - loss: 0.2524 - accuracy: 0.9136 - val_loss: 0.2556 - val_accuracy: 0.9160\n",
      "Epoch 11/20\n",
      "1375/1375 [==============================] - 4s 3ms/step - loss: 0.2478 - accuracy: 0.9146 - val_loss: 0.2515 - val_accuracy: 0.9158\n",
      "Epoch 12/20\n",
      "1375/1375 [==============================] - 4s 3ms/step - loss: 0.2436 - accuracy: 0.9162 - val_loss: 0.2535 - val_accuracy: 0.9145\n",
      "Epoch 13/20\n",
      "1375/1375 [==============================] - 4s 3ms/step - loss: 0.2401 - accuracy: 0.9180 - val_loss: 0.2502 - val_accuracy: 0.9143\n",
      "Epoch 14/20\n",
      "1375/1375 [==============================] - 4s 3ms/step - loss: 0.2368 - accuracy: 0.9188 - val_loss: 0.2446 - val_accuracy: 0.9188\n",
      "Epoch 15/20\n",
      "1375/1375 [==============================] - 4s 3ms/step - loss: 0.2337 - accuracy: 0.9205 - val_loss: 0.2550 - val_accuracy: 0.9136\n",
      "Epoch 16/20\n",
      "1375/1375 [==============================] - 4s 3ms/step - loss: 0.2307 - accuracy: 0.9211 - val_loss: 0.2445 - val_accuracy: 0.9173\n",
      "Epoch 17/20\n",
      "1375/1375 [==============================] - 4s 3ms/step - loss: 0.2278 - accuracy: 0.9224 - val_loss: 0.2546 - val_accuracy: 0.9145\n",
      "Epoch 18/20\n",
      "1375/1375 [==============================] - 4s 3ms/step - loss: 0.2251 - accuracy: 0.9229 - val_loss: 0.2487 - val_accuracy: 0.9108\n",
      "Epoch 19/20\n",
      "1375/1375 [==============================] - 4s 3ms/step - loss: 0.2225 - accuracy: 0.9232 - val_loss: 0.2401 - val_accuracy: 0.9183\n",
      "Epoch 20/20\n",
      "1375/1375 [==============================] - 4s 3ms/step - loss: 0.2202 - accuracy: 0.9246 - val_loss: 0.2433 - val_accuracy: 0.9145\n"
     ]
    }
   ],
   "source": [
    "history = model_A.fit(X_train_A, y_train_A, epochs=20,\n",
    "                    validation_data=(X_valid_A, y_valid_A))\n"
   ]
  },
  {
   "cell_type": "code",
   "execution_count": 22,
   "metadata": {},
   "outputs": [],
   "source": [
    "model_A.save(\"my_model_A.h5\")"
   ]
  },
  {
   "cell_type": "code",
   "execution_count": 25,
   "metadata": {},
   "outputs": [],
   "source": [
    "model_B = keras.models.Sequential()\n",
    "model_B.add(keras.layers.Flatten(input_shape=[28,28]))\n",
    "for n_hidden in (300, 100, 50, 50, 50):\n",
    "    model_B.add(keras.layers.Dense(n_hidden, activation=\"selu\"))\n",
    "model_B.add(keras.layers.Dense(1, activation=\"sigmoid\"))\n"
   ]
  },
  {
   "cell_type": "code",
   "execution_count": 35,
   "metadata": {},
   "outputs": [],
   "source": [
    "model_B.compile(loss=\"binary_crossentropy\",\n",
    "                optimizer=keras.optimizers.SGD(learning_rate=1e-3),\n",
    "                metrics=[\"accuracy\"])\n"
   ]
  },
  {
   "cell_type": "code",
   "execution_count": 37,
   "metadata": {},
   "outputs": [
    {
     "name": "stdout",
     "output_type": "stream",
     "text": [
      "Epoch 1/20\n",
      "7/7 [==============================] - 1s 46ms/step - loss: 0.5486 - accuracy: 0.7300 - val_loss: 0.4821 - val_accuracy: 0.8012\n",
      "Epoch 2/20\n",
      "7/7 [==============================] - 0s 16ms/step - loss: 0.3941 - accuracy: 0.8550 - val_loss: 0.3780 - val_accuracy: 0.8682\n",
      "Epoch 3/20\n",
      "7/7 [==============================] - 0s 16ms/step - loss: 0.3016 - accuracy: 0.9150 - val_loss: 0.3135 - val_accuracy: 0.9087\n",
      "Epoch 4/20\n",
      "7/7 [==============================] - 0s 16ms/step - loss: 0.2448 - accuracy: 0.9600 - val_loss: 0.2684 - val_accuracy: 0.9260\n",
      "Epoch 5/20\n",
      "7/7 [==============================] - 0s 15ms/step - loss: 0.2043 - accuracy: 0.9750 - val_loss: 0.2376 - val_accuracy: 0.9391\n",
      "Epoch 6/20\n",
      "7/7 [==============================] - 0s 15ms/step - loss: 0.1761 - accuracy: 0.9800 - val_loss: 0.2146 - val_accuracy: 0.9483\n",
      "Epoch 7/20\n",
      "7/7 [==============================] - 0s 15ms/step - loss: 0.1553 - accuracy: 0.9800 - val_loss: 0.1972 - val_accuracy: 0.9533\n",
      "Epoch 8/20\n",
      "7/7 [==============================] - 0s 15ms/step - loss: 0.1390 - accuracy: 0.9900 - val_loss: 0.1827 - val_accuracy: 0.9564\n",
      "Epoch 9/20\n",
      "7/7 [==============================] - 0s 15ms/step - loss: 0.1256 - accuracy: 0.9900 - val_loss: 0.1685 - val_accuracy: 0.9635\n",
      "Epoch 10/20\n",
      "7/7 [==============================] - 0s 15ms/step - loss: 0.1136 - accuracy: 0.9900 - val_loss: 0.1578 - val_accuracy: 0.9655\n",
      "Epoch 11/20\n",
      "7/7 [==============================] - 0s 15ms/step - loss: 0.1040 - accuracy: 0.9950 - val_loss: 0.1490 - val_accuracy: 0.9686\n",
      "Epoch 12/20\n",
      "7/7 [==============================] - 0s 15ms/step - loss: 0.0960 - accuracy: 0.9950 - val_loss: 0.1416 - val_accuracy: 0.9686\n",
      "Epoch 13/20\n",
      "7/7 [==============================] - 0s 15ms/step - loss: 0.0892 - accuracy: 1.0000 - val_loss: 0.1351 - val_accuracy: 0.9686\n",
      "Epoch 14/20\n",
      "7/7 [==============================] - 0s 15ms/step - loss: 0.0834 - accuracy: 1.0000 - val_loss: 0.1289 - val_accuracy: 0.9696\n",
      "Epoch 15/20\n",
      "7/7 [==============================] - 0s 14ms/step - loss: 0.0778 - accuracy: 1.0000 - val_loss: 0.1236 - val_accuracy: 0.9716\n",
      "Epoch 16/20\n",
      "7/7 [==============================] - 0s 16ms/step - loss: 0.0733 - accuracy: 1.0000 - val_loss: 0.1191 - val_accuracy: 0.9726\n",
      "Epoch 17/20\n",
      "7/7 [==============================] - 0s 15ms/step - loss: 0.0692 - accuracy: 1.0000 - val_loss: 0.1151 - val_accuracy: 0.9736\n",
      "Epoch 18/20\n",
      "7/7 [==============================] - 0s 15ms/step - loss: 0.0656 - accuracy: 1.0000 - val_loss: 0.1112 - val_accuracy: 0.9757\n",
      "Epoch 19/20\n",
      "7/7 [==============================] - 0s 15ms/step - loss: 0.0622 - accuracy: 1.0000 - val_loss: 0.1075 - val_accuracy: 0.9777\n",
      "Epoch 20/20\n",
      "7/7 [==============================] - 0s 15ms/step - loss: 0.0590 - accuracy: 1.0000 - val_loss: 0.1046 - val_accuracy: 0.9767\n"
     ]
    }
   ],
   "source": [
    "history = model_B.fit(X_train_B, y_train_B, epochs=20, \n",
    "                      validation_data=[X_valid_B, y_valid_B])"
   ]
  },
  {
   "cell_type": "code",
   "execution_count": 38,
   "metadata": {},
   "outputs": [],
   "source": [
    "model_A = keras.models.load_model(\"my_model_A.h5\")\n",
    "model_B_on_A = keras.models.Sequential(model_A.layers[:-1])\n",
    "model_B_on_A.add(keras.layers.Dense(1, activation=\"sigmoid\"))"
   ]
  },
  {
   "cell_type": "code",
   "execution_count": 40,
   "metadata": {},
   "outputs": [],
   "source": [
    "model_A_clone = keras.models.clone_model(model_A)\n",
    "model_A_clone.set_weights(model_A.get_weights())"
   ]
  },
  {
   "cell_type": "code",
   "execution_count": 43,
   "metadata": {},
   "outputs": [
    {
     "name": "stdout",
     "output_type": "stream",
     "text": [
      "Epoch 1/16\n"
     ]
    },
    {
     "name": "stderr",
     "output_type": "stream",
     "text": [
      "C:\\ProgramData\\Anaconda3\\lib\\site-packages\\keras\\optimizer_v2\\gradient_descent.py:102: UserWarning: The `lr` argument is deprecated, use `learning_rate` instead.\n",
      "  super(SGD, self).__init__(name, **kwargs)\n"
     ]
    },
    {
     "name": "stdout",
     "output_type": "stream",
     "text": [
      "7/7 [==============================] - 1s 75ms/step - loss: 0.3689 - accuracy: 0.7950 - val_loss: 0.3559 - val_accuracy: 0.7931\n",
      "Epoch 2/16\n",
      "7/7 [==============================] - 0s 29ms/step - loss: 0.3504 - accuracy: 0.7950 - val_loss: 0.3375 - val_accuracy: 0.8043\n",
      "Epoch 3/16\n",
      "7/7 [==============================] - 0s 30ms/step - loss: 0.3317 - accuracy: 0.7950 - val_loss: 0.3213 - val_accuracy: 0.8093\n",
      "Epoch 4/16\n",
      "7/7 [==============================] - 0s 30ms/step - loss: 0.3152 - accuracy: 0.8050 - val_loss: 0.3057 - val_accuracy: 0.8205\n",
      "Epoch 5/16\n",
      "7/7 [==============================] - 0s 29ms/step - loss: 0.2992 - accuracy: 0.8100 - val_loss: 0.2904 - val_accuracy: 0.8286\n",
      "Epoch 6/16\n",
      "7/7 [==============================] - 0s 29ms/step - loss: 0.2837 - accuracy: 0.8250 - val_loss: 0.2773 - val_accuracy: 0.8337\n",
      "Epoch 7/16\n",
      "7/7 [==============================] - 0s 29ms/step - loss: 0.2703 - accuracy: 0.8350 - val_loss: 0.2647 - val_accuracy: 0.8428\n",
      "Epoch 8/16\n",
      "7/7 [==============================] - 0s 29ms/step - loss: 0.2575 - accuracy: 0.8400 - val_loss: 0.2527 - val_accuracy: 0.8529\n",
      "Epoch 9/16\n",
      "7/7 [==============================] - 0s 41ms/step - loss: 0.2453 - accuracy: 0.8450 - val_loss: 0.2407 - val_accuracy: 0.8631\n",
      "Epoch 10/16\n",
      "7/7 [==============================] - 0s 28ms/step - loss: 0.2331 - accuracy: 0.8600 - val_loss: 0.2312 - val_accuracy: 0.8763\n",
      "Epoch 11/16\n",
      "7/7 [==============================] - 0s 33ms/step - loss: 0.2236 - accuracy: 0.8700 - val_loss: 0.2221 - val_accuracy: 0.8915\n",
      "Epoch 12/16\n",
      "7/7 [==============================] - 0s 29ms/step - loss: 0.2143 - accuracy: 0.8800 - val_loss: 0.2134 - val_accuracy: 0.9067\n",
      "Epoch 13/16\n",
      "7/7 [==============================] - 0s 31ms/step - loss: 0.2055 - accuracy: 0.8900 - val_loss: 0.2053 - val_accuracy: 0.9158\n",
      "Epoch 14/16\n",
      "7/7 [==============================] - 0s 31ms/step - loss: 0.1974 - accuracy: 0.8950 - val_loss: 0.1981 - val_accuracy: 0.9199\n",
      "Epoch 15/16\n",
      "7/7 [==============================] - 0s 36ms/step - loss: 0.1900 - accuracy: 0.9000 - val_loss: 0.1908 - val_accuracy: 0.9310\n",
      "Epoch 16/16\n",
      "7/7 [==============================] - 0s 32ms/step - loss: 0.1826 - accuracy: 0.9100 - val_loss: 0.1840 - val_accuracy: 0.9371\n"
     ]
    }
   ],
   "source": [
    "for layer in model_B_on_A.layers[:-1]:\n",
    "    layer.trainable = False\n",
    "\n",
    "model_B_on_A.compile(loss=\"binary_crossentropy\",\n",
    "                     optimizer = keras.optimizers.SGD(learning_rate=1e-3),\n",
    "                     metrics=[\"accuracy\"])\n",
    "history = model_B_on_A.fit(X_train_B, y_train_B, epochs=16, \n",
    "                           validation_data =(X_valid_B, y_valid_B))\n",
    "    \n",
    "    "
   ]
  },
  {
   "cell_type": "code",
   "execution_count": 47,
   "metadata": {},
   "outputs": [
    {
     "name": "stdout",
     "output_type": "stream",
     "text": [
      "Epoch 1/16\n",
      "7/7 [==============================] - 1s 76ms/step - loss: 0.1643 - accuracy: 0.9450 - val_loss: 0.1516 - val_accuracy: 0.9696\n",
      "Epoch 2/16\n",
      "7/7 [==============================] - 0s 29ms/step - loss: 0.1354 - accuracy: 0.9800 - val_loss: 0.1287 - val_accuracy: 0.9858\n",
      "Epoch 3/16\n",
      "7/7 [==============================] - 0s 28ms/step - loss: 0.1146 - accuracy: 0.9900 - val_loss: 0.1132 - val_accuracy: 0.9868\n",
      "Epoch 4/16\n",
      "7/7 [==============================] - 0s 31ms/step - loss: 0.1007 - accuracy: 0.9950 - val_loss: 0.1014 - val_accuracy: 0.9888\n",
      "Epoch 5/16\n",
      "7/7 [==============================] - 0s 28ms/step - loss: 0.0894 - accuracy: 0.9950 - val_loss: 0.0917 - val_accuracy: 0.9919\n",
      "Epoch 6/16\n",
      "7/7 [==============================] - 0s 28ms/step - loss: 0.0801 - accuracy: 0.9950 - val_loss: 0.0847 - val_accuracy: 0.9919\n",
      "Epoch 7/16\n",
      "7/7 [==============================] - 0s 29ms/step - loss: 0.0733 - accuracy: 0.9950 - val_loss: 0.0790 - val_accuracy: 0.9919\n",
      "Epoch 8/16\n",
      "7/7 [==============================] - 0s 29ms/step - loss: 0.0670 - accuracy: 0.9950 - val_loss: 0.0738 - val_accuracy: 0.9919\n",
      "Epoch 9/16\n",
      "7/7 [==============================] - 0s 27ms/step - loss: 0.0620 - accuracy: 0.9950 - val_loss: 0.0690 - val_accuracy: 0.9929\n",
      "Epoch 10/16\n",
      "7/7 [==============================] - 0s 30ms/step - loss: 0.0575 - accuracy: 0.9950 - val_loss: 0.0657 - val_accuracy: 0.9929\n",
      "Epoch 11/16\n",
      "7/7 [==============================] - 0s 30ms/step - loss: 0.0541 - accuracy: 0.9950 - val_loss: 0.0626 - val_accuracy: 0.9929\n",
      "Epoch 12/16\n",
      "7/7 [==============================] - 0s 30ms/step - loss: 0.0510 - accuracy: 0.9950 - val_loss: 0.0599 - val_accuracy: 0.9929\n",
      "Epoch 13/16\n",
      "7/7 [==============================] - 0s 30ms/step - loss: 0.0482 - accuracy: 0.9950 - val_loss: 0.0575 - val_accuracy: 0.9929\n",
      "Epoch 14/16\n",
      "7/7 [==============================] - 0s 30ms/step - loss: 0.0458 - accuracy: 0.9950 - val_loss: 0.0553 - val_accuracy: 0.9929\n",
      "Epoch 15/16\n",
      "7/7 [==============================] - 0s 30ms/step - loss: 0.0435 - accuracy: 0.9950 - val_loss: 0.0534 - val_accuracy: 0.9929\n",
      "Epoch 16/16\n",
      "7/7 [==============================] - 0s 30ms/step - loss: 0.0415 - accuracy: 0.9950 - val_loss: 0.0515 - val_accuracy: 0.9929\n"
     ]
    }
   ],
   "source": [
    "for layer in model_B_on_A.layers[:-1]:\n",
    "    layer.trainable = True\n",
    "    \n",
    "model_B_on_A.compile(loss=\"binary_crossentropy\",\n",
    "                     optimizer= keras.optimizers.SGD(learning_rate=1e-3),\n",
    "                     metrics=[\"accuracy\"])\n",
    "history = model_B_on_A.fit(X_train_B, y_train_B, epochs=16,\n",
    "                           validation_data=(X_valid_B, y_valid_B))\n",
    "    "
   ]
  },
  {
   "cell_type": "markdown",
   "metadata": {},
   "source": [
    "model_B.evaluate(X_test_B, y_test_B)"
   ]
  },
  {
   "cell_type": "code",
   "execution_count": 48,
   "metadata": {},
   "outputs": [
    {
     "name": "stdout",
     "output_type": "stream",
     "text": [
      "63/63 [==============================] - 0s 4ms/step - loss: 0.0931 - accuracy: 0.9835\n"
     ]
    },
    {
     "data": {
      "text/plain": [
       "[0.09306483715772629, 0.9835000038146973]"
      ]
     },
     "execution_count": 48,
     "metadata": {},
     "output_type": "execute_result"
    }
   ],
   "source": [
    "model_B.evaluate(X_test_B, y_test_B)"
   ]
  },
  {
   "cell_type": "code",
   "execution_count": 49,
   "metadata": {},
   "outputs": [
    {
     "name": "stdout",
     "output_type": "stream",
     "text": [
      "63/63 [==============================] - 0s 4ms/step - loss: 0.0525 - accuracy: 0.9950\n"
     ]
    },
    {
     "data": {
      "text/plain": [
       "[0.052549272775650024, 0.9950000047683716]"
      ]
     },
     "execution_count": 49,
     "metadata": {},
     "output_type": "execute_result"
    }
   ],
   "source": [
    "model_B_on_A.evaluate(X_test_B, y_test_B)"
   ]
  },
  {
   "cell_type": "code",
   "execution_count": null,
   "metadata": {},
   "outputs": [],
   "source": []
  }
 ],
 "metadata": {
  "kernelspec": {
   "display_name": "Python 3",
   "language": "python",
   "name": "python3"
  },
  "language_info": {
   "codemirror_mode": {
    "name": "ipython",
    "version": 3
   },
   "file_extension": ".py",
   "mimetype": "text/x-python",
   "name": "python",
   "nbconvert_exporter": "python",
   "pygments_lexer": "ipython3",
   "version": "3.7.3"
  }
 },
 "nbformat": 4,
 "nbformat_minor": 2
}
